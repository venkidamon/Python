{
 "cells": [
  {
   "cell_type": "markdown",
   "metadata": {},
   "source": [
    "Credit card validation"
   ]
  },
  {
   "cell_type": "code",
   "execution_count": 1,
   "metadata": {},
   "outputs": [],
   "source": [
    "def c_validation(a,b):\n",
    "    c=[]\n",
    "    for i in range(len(a)):\n",
    "        a[i] *= 2\n",
    "    for i in range(len(a)):\n",
    "        if(a[i] > 9):\n",
    "            x = str(a[i])\n",
    "            sum1 = 0\n",
    "            for j in x:           \n",
    "                sum1 += int(j)       \n",
    "            c.append(sum1)\n",
    "        else:\n",
    "            c.append(a[i])\n",
    "    c.extend(b)\n",
    "    d = sum(c)\n",
    "    if(d%10 == 0):\n",
    "        print('The credit card is valid')\n",
    "    else:\n",
    "        print('The credit card is invalid')\n",
    "        "
   ]
  },
  {
   "cell_type": "code",
   "execution_count": 2,
   "metadata": {},
   "outputs": [
    {
     "name": "stdout",
     "output_type": "stream",
     "text": [
      "Enter the credit card number123456789\n",
      "The credit card is invalid\n"
     ]
    }
   ],
   "source": [
    "validate = True\n",
    "while validate:\n",
    "    user_input = input('Enter the credit card number')\n",
    "    if(user_input.isdigit()):\n",
    "        list_1 = []\n",
    "        list_2 = []\n",
    "        list_3 = []\n",
    "        for i in user_input:\n",
    "            list_1.append(int(i))\n",
    "        for i in range(len(list_1)-2,-1,-2):\n",
    "            list_2.append(list_1[i])\n",
    "        for i in range(len(list_1)-1,-1,-2):\n",
    "            list_3.append(list_1[i])\n",
    "        c_validation(list_2, list_3)\n",
    "        validate = False\n",
    "    else:\n",
    "        print('enter a valid credit card')"
   ]
  },
  {
   "cell_type": "code",
   "execution_count": null,
   "metadata": {},
   "outputs": [],
   "source": []
  }
 ],
 "metadata": {
  "kernelspec": {
   "display_name": "Python 3",
   "language": "python",
   "name": "python3"
  },
  "language_info": {
   "codemirror_mode": {
    "name": "ipython",
    "version": 3
   },
   "file_extension": ".py",
   "mimetype": "text/x-python",
   "name": "python",
   "nbconvert_exporter": "python",
   "pygments_lexer": "ipython3",
   "version": "3.8.5"
  }
 },
 "nbformat": 4,
 "nbformat_minor": 4
}
